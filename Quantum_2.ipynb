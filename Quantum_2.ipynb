{
 "cells": [
  {
   "cell_type": "markdown",
   "metadata": {
    "id": "IHyRBp1vq5Fl"
   },
   "source": [
    "# Simulación de diferentes tipos de errores y ver cómo afectan a una variedad de circuitos cuánticos más complejos, en este caso el resultado de un circuito que implementa el algoritmo de Deutch Jozsa\n",
    "\n",
    "El ruido no solo es aplicado a la medida, sino también a las puertas del circuito."
   ]
  },
  {
   "cell_type": "code",
   "execution_count": 1,
   "metadata": {
    "colab": {
     "base_uri": "https://localhost:8080/"
    },
    "executionInfo": {
     "elapsed": 28500,
     "status": "ok",
     "timestamp": 1686692143138,
     "user": {
      "displayName": "Branndon Munoz",
      "userId": "08371127445847500262"
     },
     "user_tz": 240
    },
    "id": "Ctie3QATrxK-",
    "outputId": "28d3c630-71bc-4206-d7dc-88795338ff81"
   },
   "outputs": [],
   "source": [
    "#!pip install qiskit"
   ]
  },
  {
   "cell_type": "code",
   "execution_count": 3,
   "metadata": {
    "colab": {
     "base_uri": "https://localhost:8080/",
     "height": 449
    },
    "executionInfo": {
     "elapsed": 490,
     "status": "ok",
     "timestamp": 1686693499906,
     "user": {
      "displayName": "Branndon Munoz",
      "userId": "08371127445847500262"
     },
     "user_tz": 240
    },
    "id": "CLuJSLqTq1Z3",
    "outputId": "57a0f3c8-a864-4a81-8b4a-0e8958d9f3a0"
   },
   "outputs": [
    {
     "data": {
      "image/png": "[encoded data removed]",
      "text/plain": [
       "<Figure size 504x360 with 1 Axes>"
      ]
     },
     "execution_count": 3,
     "metadata": {},
     "output_type": "execute_result"
    }
   ],
   "source": [
    "from qiskit import QuantumCircuit, execute, Aer\n",
    "from qiskit.visualization import plot_histogram\n",
    "from qiskit.providers.aer.noise import NoiseModel, depolarizing_error, amplitude_damping_error\n",
    "\n",
    "# Este es el oráculo para una función constante\n",
    "def oraculo_constante(circuito):\n",
    "    # Definimos una función llamada 'oraculo_constante' que toma un circuito como argumento\n",
    "    circuito.h(1) #le aplicamos hadamard al qubit 1 del circuito\n",
    "    return circuito\n",
    "\n",
    "# Esta es la parte del algoritmo de Deutsch-Jozsa\n",
    "def deutsch_jozsa(circuito):\n",
    "    circuito.x(1)  # Aplicamos una puerta X al qubit 1 del circuito\n",
    "    circuito.h([0, 1])   # Aplicamos una puerta Hadamard a los qubits 0 y 1 del circuito\n",
    "\n",
    "\n",
    "    circuito = oraculo_constante(circuito)\n",
    "\n",
    "    # Hadamard y medimos el primer qubit\n",
    "    circuito.h(0)   # Aplicamos una puerta Hadamard al qubit 0 del circuito\n",
    "    circuito.measure([0], [0])  # Medimos el qubit 0 y almacenamos el resultado en el bit clásico 0\n",
    "\n",
    "\n",
    "    return circuito\n",
    "\n",
    "# Se crea el circuito y se aplica el algoritmo\n",
    "circuito = QuantumCircuit(2, 1) # Creamos un circuito cuántico con 2 qubits y 1 bit clásico\n",
    "circuito = deutsch_jozsa(circuito) # Llamamos a la función 'deutsch_jozsa' pasando el circuito como argumento\n",
    "\n",
    "\n",
    "# modelos de ruido\n",
    "prob_error = 0.1 #Esta variable determina la probabilidad de que ocurra un error en las compuertas cuánticas durante la simulación con ruido.\n",
    "noise_model_dep = NoiseModel() #Este objeto servirá como modelo de ruido para simular errores de depolarización en las compuertas cuánticas.\n",
    "error_gate_dep = depolarizing_error(prob_error, 1) # Esta función recibe dos argumentos: la probabilidad de error (prob_error) y la dimensión del espacio de Hilbert afectado por el error (en este caso, 1 qubit).\n",
    "noise_model_dep.add_all_qubit_quantum_error(error_gate_dep, ['u1', 'u2', 'u3', 'h', 'x', 'measure'])\n",
    "#se añade la posibilidad de que ocurran errores de depolarización en las compuertas de rotación (u1, u2, u3), la puerta Hadamard (h), la puerta X (x), y la operación de medición (measure).\n",
    "\n",
    "noise_model_amp = NoiseModel()\n",
    "error_gate_amp = amplitude_damping_error(prob_error) \n",
    "noise_model_amp.add_all_qubit_quantum_error(error_gate_amp, ['u1', 'u2', 'u3', 'h', 'x', 'measure'])\n",
    "#se añade la posibilidad de que ocurran errores de amortiguación de amplitud en las compuertas de rotación (u1, u2, u3), la puerta Hadamard (h), la puerta X (x) y la operación de medición (measure).\n",
    "#El error de amortiguación de amplitud es un tipo de ruido que representa la pérdida de energía del sistema cuántico, lo que puede llevar a errores en la amplitud de los estados cuánticos.\n",
    "\n",
    "\n",
    "# Ejecutamos el circuito con y sin ruido\n",
    "simulator = Aer.get_backend('qasm_simulator') ## Creamos un simulador cuántico utilizando el backend 'qasm_simulator' de Qiskit\n",
    "job = execute(circuito, simulator, shots=1000) # Ejecutamos el circuito en el simulador sin ruido y realizamos 1000 pruebas\n",
    "result = job.result() #resultado de la ejecución del circuito\n",
    "counts = result.get_counts(circuito) # Obtenemos los resultados de la medición y los almacenamos en 'counts'\n",
    "\n",
    "job_noise_dep = execute(circuito, simulator, shots=1000, noise_model=noise_model_dep) #Ejecutamos el circuito en el simulador con el modelo de ruido de depolarización y realizamos 1000 pruebas\n",
    "result_noise_dep = job_noise_dep.result()\n",
    "counts_noise_dep = result_noise_dep.get_counts(circuito)\n",
    "\n",
    "job_noise_amp = execute(circuito, simulator, shots=1000, noise_model=noise_model_amp) # Ejecutamos el circuito en el simulador con el modelo de ruido de amortiguación de amplitud y realizamos 1000 pruebas\n",
    "result_noise_amp = job_noise_amp.result()\n",
    "counts_noise_amp = result_noise_amp.get_counts(circuito)\n",
    "\n",
    "# Histograma de resultados\n",
    "plot_histogram([counts, counts_noise_dep, counts_noise_amp], legend=['Sin ruido', 'Con ruido de depolarización', 'Con ruido de amortiguación de amplitud'])\n",
    "\n"
   ]
  },
  {
   "cell_type": "markdown",
   "metadata": {},
   "source": [
    "- Este código implementa el algoritmo de Deutsch-Jozsa, que es un problema de búsqueda cuántica diseñado para mostrar la ventaja de la computación cuántica en comparación con la computación clásica.\n",
    "- Este código implementa el algoritmo de Deutsch-Jozsa, un algoritmo cuántico que permite determinar si una función es constante o balanceada. \n",
    "- Un oráculo en un algoritmo cuántico se puede ver como una \"caja negra\" que realiza una operación específica en los qubits del circuito, representando una función o relación matemática en el problema que se está abordando. Puede ser diseñado para realizar cálculos específicos, como una función constante, una función balanceada o cualquier otro tipo de función que se desee investigar."
   ]
  },
  {
   "cell_type": "markdown",
   "metadata": {},
   "source": [
    "- Resumen:\n",
    "El código define las funciones necesarias para implementar el algoritmo de Deutsch-Jozsa y luego crea un circuito cuántico en el que se aplica el algoritmo. Luego, se configuran modelos de ruido para simular errores en las compuertas cuánticas y se ejecuta el circuito tanto con ruido como sin ruido. Finalmente, se muestra un histograma de los resultados obtenidos."
   ]
  },
  {
   "cell_type": "code",
   "execution_count": null,
   "metadata": {},
   "outputs": [],
   "source": []
  }
 ],
 "metadata": {
  "colab": {
   "authorship_tag": "ABX9TyPUF9iC4a66TxtlOQitKmn8",
   "provenance": []
  },
  "kernelspec": {
   "display_name": "Python 3",
   "language": "python",
   "name": "python3"
  },
  "language_info": {
   "codemirror_mode": {
    "name": "ipython",
    "version": 3
   },
   "file_extension": ".py",
   "mimetype": "text/x-python",
   "name": "python",
   "nbconvert_exporter": "python",
   "pygments_lexer": "ipython3",
   "version": "3.8.8"
  }
 },
 "nbformat": 4,
 "nbformat_minor": 1
}
